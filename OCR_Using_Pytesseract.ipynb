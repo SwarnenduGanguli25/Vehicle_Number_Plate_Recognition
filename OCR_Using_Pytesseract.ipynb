{
 "cells": [
  {
   "cell_type": "markdown",
   "metadata": {},
   "source": [
    "## PART-3(RECOGNITION USING PYTESSERACT)"
   ]
  },
  {
   "cell_type": "markdown",
   "metadata": {},
   "source": [
    "#### 1. Importing required libraries"
   ]
  },
  {
   "cell_type": "code",
   "execution_count": 1,
   "metadata": {},
   "outputs": [],
   "source": [
    "import pytesseract \n",
    "import matplotlib.pyplot as plt\n",
    "from PIL import Image, ImageFilter\n",
    "import cv2 \n",
    "import glob \n",
    "import os"
   ]
  },
  {
   "cell_type": "markdown",
   "metadata": {},
   "source": [
    "#### 2. Attaching the tesseract execution file"
   ]
  },
  {
   "cell_type": "code",
   "execution_count": 2,
   "metadata": {},
   "outputs": [],
   "source": [
    "pytesseract.pytesseract.tesseract_cmd = r\"C:\\Program Files\\Tesseract-OCR\\tesseract.exe\""
   ]
  },
  {
   "cell_type": "markdown",
   "metadata": {},
   "source": [
    "#### 3. Creating the model which will recognize the license plates"
   ]
  },
  {
   "cell_type": "code",
   "execution_count": 3,
   "metadata": {},
   "outputs": [],
   "source": [
    "def ocr_model(x):\n",
    "    img = Image.open(x)\n",
    "    text = pytesseract.image_to_string(img, lang='eng', config='-c tessedit_char_whitelist=ABCDEFGHIJKLMNOPQRSTUVWXYZ0123456789')\n",
    "    print(text)"
   ]
  },
  {
   "cell_type": "code",
   "execution_count": 36,
   "metadata": {},
   "outputs": [
    {
     "name": "stdout",
     "output_type": "stream",
     "text": [
      "246   15\n",
      "245   34\n",
      "173   16\n",
      "173   34\n"
     ]
    }
   ],
   "source": [
    "# importing the module \n",
    "import cv2 \n",
    "\n",
    "# function to display the coordinates of \n",
    "# of the points clicked on the image \n",
    "def click_event(event, x, y, flags, params): \n",
    "\n",
    "\t# checking for left mouse clicks \n",
    "\tif event == cv2.EVENT_LBUTTONDOWN: \n",
    "\n",
    "\t\t# displaying the coordinates \n",
    "\t\t# on the Shell \n",
    "\t\tprint(x, ' ', y) \n",
    "\n",
    "\t\t# displaying the coordinates \n",
    "\t\t# on the image window \n",
    "\t\tfont = cv2.FONT_HERSHEY_SIMPLEX \n",
    "\t\tcv2.putText(img, str(x) + ',' +\n",
    "\t\t\t\t\tstr(y), (x,y), font, \n",
    "\t\t\t\t\t1, (255, 0, 0), 2) \n",
    "\t\tcv2.imshow('image', img) \n",
    "\n",
    "\t# checking for right mouse clicks\t \n",
    "\tif event==cv2.EVENT_RBUTTONDOWN: \n",
    "\n",
    "\t\t# displaying the coordinates \n",
    "\t\t# on the Shell \n",
    "\t\tprint(x, ' ', y) \n",
    "\n",
    "\t\t# displaying the coordinates \n",
    "\t\t# on the image window \n",
    "\t\tfont = cv2.FONT_HERSHEY_SIMPLEX \n",
    "\t\tb = img[y, x, 0] \n",
    "\t\tg = img[y, x, 1] \n",
    "\t\tr = img[y, x, 2] \n",
    "\t\tcv2.putText(img, str(b) + ',' +\n",
    "\t\t\t\t\tstr(g) + ',' + str(r), \n",
    "\t\t\t\t\t(x,y), font, 1, \n",
    "\t\t\t\t\t(255, 255, 0), 2) \n",
    "\t\tcv2.imshow('image', img) \n",
    "\n",
    "# driver function \n",
    "if __name__==\"__main__\": \n",
    "\n",
    "\t# reading the image \n",
    "\timg = cv2.imread('demo.jpg', 1) \n",
    "\n",
    "\t# displaying the image \n",
    "\tcv2.imshow('image', img) \n",
    "\n",
    "\t# setting mouse hadler for the image \n",
    "\t# and calling the click_event() function \n",
    "\tcv2.setMouseCallback('image', click_event) \n",
    "\n",
    "\t# wait for a key to be pressed to exit \n",
    "\tcv2.waitKey(0) \n",
    "\n",
    "\t# close the window \n",
    "\tcv2.destroyAllWindows() "
   ]
  },
  {
   "cell_type": "code",
   "execution_count": 37,
   "metadata": {},
   "outputs": [],
   "source": [
    "# import the necessary packages\n",
    "import numpy as np\n",
    "import cv2\n",
    "def order_points(pts):\n",
    "\t# initialzie a list of coordinates that will be ordered\n",
    "\t# such that the first entry in the list is the top-left,\n",
    "\t# the second entry is the top-right, the third is the\n",
    "\t# bottom-right, and the fourth is the bottom-left\n",
    "\trect = np.zeros((4, 2), dtype = \"float32\")\n",
    "\t# the top-left point will have the smallest sum, whereas\n",
    "\t# the bottom-right point will have the largest sum\n",
    "\ts = pts.sum(axis = 1)\n",
    "\trect[0] = pts[np.argmin(s)]\n",
    "\trect[2] = pts[np.argmax(s)]\n",
    "\t# now, compute the difference between the points, the\n",
    "\t# top-right point will have the smallest difference,\n",
    "\t# whereas the bottom-left will have the largest difference\n",
    "\tdiff = np.diff(pts, axis = 1)\n",
    "\trect[1] = pts[np.argmin(diff)]\n",
    "\trect[3] = pts[np.argmax(diff)]\n",
    "\t# return the ordered coordinates\n",
    "\treturn rect"
   ]
  },
  {
   "cell_type": "code",
   "execution_count": 38,
   "metadata": {},
   "outputs": [],
   "source": [
    "def four_point_transform(image, pts):\n",
    "\t# obtain a consistent order of the points and unpack them\n",
    "\t# individually\n",
    "\trect = order_points(pts)\n",
    "\t(tl, tr, br, bl) = rect\n",
    "\t# compute the width of the new image, which will be the\n",
    "\t# maximum distance between bottom-right and bottom-left\n",
    "\t# x-coordiates or the top-right and top-left x-coordinates\n",
    "\twidthA = np.sqrt(((br[0] - bl[0]) ** 2) + ((br[1] - bl[1]) ** 2))\n",
    "\twidthB = np.sqrt(((tr[0] - tl[0]) ** 2) + ((tr[1] - tl[1]) ** 2))\n",
    "\tmaxWidth = max(int(widthA), int(widthB))\n",
    "\t# compute the height of the new image, which will be the\n",
    "\t# maximum distance between the top-right and bottom-right\n",
    "\t# y-coordinates or the top-left and bottom-left y-coordinates\n",
    "\theightA = np.sqrt(((tr[0] - br[0]) ** 2) + ((tr[1] - br[1]) ** 2))\n",
    "\theightB = np.sqrt(((tl[0] - bl[0]) ** 2) + ((tl[1] - bl[1]) ** 2))\n",
    "\tmaxHeight = max(int(heightA), int(heightB))\n",
    "\t# now that we have the dimensions of the new image, construct\n",
    "\t# the set of destination points to obtain a \"birds eye view\",\n",
    "\t# (i.e. top-down view) of the image, again specifying points\n",
    "\t# in the top-left, top-right, bottom-right, and bottom-left\n",
    "\t# order\n",
    "\tdst = np.array([\n",
    "\t\t[0, 0],\n",
    "\t\t[maxWidth - 1, 0],\n",
    "\t\t[maxWidth - 1, maxHeight - 1],\n",
    "\t\t[0, maxHeight - 1]], dtype = \"float32\")\n",
    "\t# compute the perspective transform matrix and then apply it\n",
    "\tM = cv2.getPerspectiveTransform(rect, dst)\n",
    "\twarped = cv2.warpPerspective(image, M, (maxWidth, maxHeight))\n",
    "\t# return the warped image\n",
    "\treturn warped"
   ]
  },
  {
   "cell_type": "code",
   "execution_count": 39,
   "metadata": {},
   "outputs": [],
   "source": [
    "import numpy as np\n",
    "image = cv2.imread(\"demo.jpg\")\n",
    "pts = np.float32([[246,15], [245,34], [173,16], [173,34]])"
   ]
  },
  {
   "cell_type": "code",
   "execution_count": 40,
   "metadata": {},
   "outputs": [
    {
     "data": {
      "text/plain": [
       "-1"
      ]
     },
     "execution_count": 40,
     "metadata": {},
     "output_type": "execute_result"
    }
   ],
   "source": [
    "warped = four_point_transform(image, pts)\n",
    "cv2.imshow(\"Original\", image)\n",
    "cv2.imshow(\"Warped\", warped)\n",
    "cv2.waitKey(0)"
   ]
  },
  {
   "cell_type": "code",
   "execution_count": 41,
   "metadata": {},
   "outputs": [
    {
     "data": {
      "text/plain": [
       "True"
      ]
     },
     "execution_count": 41,
     "metadata": {},
     "output_type": "execute_result"
    }
   ],
   "source": [
    "cv2.imwrite(\"cut4.jpg\", warped) "
   ]
  },
  {
   "cell_type": "code",
   "execution_count": 42,
   "metadata": {},
   "outputs": [
    {
     "name": "stdout",
     "output_type": "stream",
     "text": [
      "Original Dimensions :  (19, 73, 3)\n",
      "Resized Dimensions :  (66, 255, 3)\n"
     ]
    }
   ],
   "source": [
    "img = cv2.imread('cut4.jpg', cv2.IMREAD_UNCHANGED)\n",
    " \n",
    "print('Original Dimensions : ',img.shape)\n",
    " \n",
    "scale_percent = 350 # percent of original size\n",
    "width = int(img.shape[1] * scale_percent / 100)\n",
    "height = int(img.shape[0] * scale_percent / 100)\n",
    "dim = (width, height)\n",
    "  \n",
    "# resize image\n",
    "resized = cv2.resize(img, dim, interpolation = cv2.INTER_AREA)\n",
    " \n",
    "print('Resized Dimensions : ',resized.shape)\n",
    " \n",
    "cv2.imshow(\"Resized image\", resized)\n",
    "cv2.waitKey(0)\n",
    "cv2.destroyAllWindows()"
   ]
  },
  {
   "cell_type": "code",
   "execution_count": 43,
   "metadata": {},
   "outputs": [
    {
     "data": {
      "text/plain": [
       "True"
      ]
     },
     "execution_count": 43,
     "metadata": {},
     "output_type": "execute_result"
    }
   ],
   "source": [
    "cv2.imwrite(\"cut4_resized.jpg\", resized) "
   ]
  },
  {
   "cell_type": "markdown",
   "metadata": {},
   "source": [
    "**IMAGE-1**"
   ]
  },
  {
   "cell_type": "code",
   "execution_count": 18,
   "metadata": {
    "scrolled": true
   },
   "outputs": [
    {
     "data": {
      "image/jpeg": "[encoded data removed]",
      "text/plain": [
       "<IPython.core.display.Image object>"
      ]
     },
     "execution_count": 18,
     "metadata": {},
     "output_type": "execute_result"
    }
   ],
   "source": [
    "from IPython.display import Image\n",
    "Image('cut1_resized.jpg')"
   ]
  },
  {
   "cell_type": "markdown",
   "metadata": {},
   "source": [
    "**READING-1**"
   ]
  },
  {
   "cell_type": "code",
   "execution_count": 19,
   "metadata": {},
   "outputs": [
    {
     "name": "stdout",
     "output_type": "stream",
     "text": [
      "MH 14 TC 206/AN\n"
     ]
    }
   ],
   "source": [
    "from PIL import Image\n",
    "ocr_model('cut1_resized.jpg')"
   ]
  },
  {
   "cell_type": "markdown",
   "metadata": {},
   "source": [
    "**IMAGE-2**"
   ]
  },
  {
   "cell_type": "code",
   "execution_count": 32,
   "metadata": {},
   "outputs": [
    {
     "data": {
      "image/jpeg": "[encoded data removed]",
      "text/plain": [
       "<IPython.core.display.Image object>"
      ]
     },
     "execution_count": 32,
     "metadata": {},
     "output_type": "execute_result"
    }
   ],
   "source": [
    "from IPython.display import Image\n",
    "Image('cut2_resized.jpg')"
   ]
  },
  {
   "cell_type": "markdown",
   "metadata": {},
   "source": [
    "**READING-2**"
   ]
  },
  {
   "cell_type": "code",
   "execution_count": 33,
   "metadata": {},
   "outputs": [
    {
     "name": "stdout",
     "output_type": "stream",
     "text": [
      "MHO1AVS866\n"
     ]
    }
   ],
   "source": [
    "from PIL import Image\n",
    "ocr_model('cut2_resized.jpg')"
   ]
  },
  {
   "cell_type": "markdown",
   "metadata": {},
   "source": [
    "**IMAGE-3**"
   ]
  },
  {
   "cell_type": "code",
   "execution_count": 34,
   "metadata": {},
   "outputs": [
    {
     "data": {
      "image/jpeg": "[encoded data removed]",
      "text/plain": [
       "<IPython.core.display.Image object>"
      ]
     },
     "execution_count": 34,
     "metadata": {},
     "output_type": "execute_result"
    }
   ],
   "source": [
    "from IPython.display import Image\n",
    "Image('cut3_resized.jpg')"
   ]
  },
  {
   "cell_type": "markdown",
   "metadata": {},
   "source": [
    "**READING-3**"
   ]
  },
  {
   "cell_type": "code",
   "execution_count": 35,
   "metadata": {
    "scrolled": false
   },
   "outputs": [
    {
     "name": "stdout",
     "output_type": "stream",
     "text": [
      "DL iN 4268\n"
     ]
    }
   ],
   "source": [
    "from PIL import Image\n",
    "ocr_model('cut3_resized.jpg')"
   ]
  },
  {
   "cell_type": "markdown",
   "metadata": {},
   "source": [
    "**IMAGE-4**"
   ]
  },
  {
   "cell_type": "code",
   "execution_count": 44,
   "metadata": {},
   "outputs": [
    {
     "data": {
      "image/jpeg": "[encoded data removed]",
      "text/plain": [
       "<IPython.core.display.Image object>"
      ]
     },
     "execution_count": 44,
     "metadata": {},
     "output_type": "execute_result"
    }
   ],
   "source": [
    "from IPython.display import Image\n",
    "Image('cut4_resized.jpg')"
   ]
  },
  {
   "cell_type": "markdown",
   "metadata": {},
   "source": [
    "**READING-4**"
   ]
  },
  {
   "cell_type": "code",
   "execution_count": 45,
   "metadata": {},
   "outputs": [
    {
     "name": "stdout",
     "output_type": "stream",
     "text": [
      "\n"
     ]
    }
   ],
   "source": [
    "from PIL import Image\n",
    "ocr_model('cut4_resized.jpg')"
   ]
  },
  {
   "cell_type": "markdown",
   "metadata": {},
   "source": [
    "#### 4. Creating lists containing actual license plate and detected license plate names respectively"
   ]
  },
  {
   "cell_type": "code",
   "execution_count": 46,
   "metadata": {},
   "outputs": [],
   "source": [
    "actual_license_plates = []\n",
    "for x in glob.glob(r\"C:\\Users\\Hp\\Desktop\\Others\\anpr_ocr\\test\\img\\\\*.png\"):\n",
    "    y = x.split(\"\\\\\")[-1].split(\".\")[0]\n",
    "    actual_license_plates.append(y)"
   ]
  },
  {
   "cell_type": "code",
   "execution_count": 47,
   "metadata": {},
   "outputs": [],
   "source": [
    "predicted_license_plates = []\n",
    "for x in glob.glob(r\"C:\\Users\\Hp\\Desktop\\Others\\anpr_ocr\\test\\img\\*.png\"):\n",
    "    img = Image.open(x)\n",
    "    text = pytesseract.image_to_string(img, lang='eng', config='-c tessedit_char_whitelist=ABCDEFGHIJKLMNOPQRSTUVWXYZ0123456789')\n",
    "    predicted_license_plates.append(text)"
   ]
  },
  {
   "cell_type": "markdown",
   "metadata": {},
   "source": [
    "#### 5. Actual vs Predicted"
   ]
  },
  {
   "cell_type": "code",
   "execution_count": 48,
   "metadata": {
    "scrolled": true
   },
   "outputs": [
    {
     "name": "stdout",
     "output_type": "stream",
     "text": [
      "Actual License Plate \t Predicted License Plate \t\n",
      "-------------------- \t ----------------------- \t\n",
      "\t  A007HA50 \t\t\t A O07 HA |.20: \t\t \n",
      "\t  A036CT78 \t\t\t | AO36cT |.28: \t\t \n",
      "\t  A065CA30 \t\t\t !A065CA|.30: \t\t \n",
      "\t  A083YA10 \t\t\t | AOB3YA|.10; \t\t \n",
      "\t  A128HB61 \t\t\t | A128 HB |S: \t\t \n",
      "\t  A141AP01 \t\t\t | A141 AP |.01; \t\t \n",
      "\t  A160HE95 \t\t\t | A160 HE |.25: \t\t \n",
      "\t  A183KE05 \t\t\t | AAB3KE|.05: \t\t \n",
      "\t  A225EP73 \t\t\t | A225eP |.23; \t\t \n",
      "\t  A252EM35 \t\t\t /A 252EM |.3° \t\t \n",
      "\t  A287KH73 \t\t\t | A287 KH|.23; \t\t \n",
      "\t  A301YA75 \t\t\t | AZO1YA|.25: \t\t \n",
      "\t  A332OE27 \t\t\t | M3320 |.27; \t\t \n",
      "\t  A401OC76 \t\t\t A 4010C|.26: \t\t \n",
      "\t  A441OB61 \t\t\t A 4410B].61 \t\t \n",
      "\t  A468KC45 \t\t\t | A 468KC|.49: \t\t \n",
      "\t  A531PY62 \t\t\t | AS31Py 62: \t\t \n",
      "\t  A532CO63 \t\t\t /A532co|,63; \t\t \n",
      "\t  A542KO70 \t\t\t |! AS42Ko|.20: \t\t \n",
      "\t  A544XE91 \t\t\t A544 XE |,21; \t\t \n",
      "\t  A621YH10 \t\t\t | A621 YH|.10; \t\t \n",
      "\t  A634XY01 \t\t\t /A634 xy [01 \t\t \n",
      "\t  A642CO89 \t\t\t /A642.c0|,82; \t\t \n",
      "\t  A673OC70 \t\t\t |! A6730C|.20; \t\t \n",
      "\t  A674YH33 \t\t\t | A674 YH |S: \t\t \n",
      "\t  A717PE67 \t\t\t | A717 PE|S7: \t\t \n",
      "\t  A764YP92 \t\t\t | A 764 yP |.22: \t\t \n",
      "\t  A773EE04 \t\t\t | A773EE |.04 \t\t \n",
      "\t  A837BK97 \t\t\t | A837 BK |.22; \t\t \n",
      "\t  B006TA87 \t\t\t /BOO6TA|.82; \t\t \n",
      "\t  B007HE25 \t\t\t |! BOOTHE |.22: \t\t \n",
      "\t  B020HX14 \t\t\t /BO20 Hx |.4: \t\t \n",
      "\t  B078PY05 \t\t\t | BOT8Py |.05 \t\t \n",
      "\t  B142HP18 \t\t\t | B42 HP |.18; \t\t \n",
      "\t  B155OY85 \t\t\t | B15S oy |.85; \t\t \n",
      "\t  B160EP50 \t\t\t | B60 EP |.20: \t\t \n",
      "\t  B176TA48 \t\t\t | BA7Z6TA|.48: \t\t \n",
      "\t  B178XK14 \t\t\t | B178 XK |.4 \t\t \n",
      "\t  B205CA75 \t\t\t | B205CA |.25; \t\t \n",
      "\t  B220CY33 \t\t\t |! B220cy |.33: \t\t \n",
      "\t  B257PH50 \t\t\t | B257PH|.20: \t\t \n",
      "\t  B267TX70 \t\t\t 1B267TX|.20; \t\t \n",
      "\t  B268MA11 \t\t\t LB268MA |.1 \t\t \n",
      "\t  B270AE54 \t\t\t /B270 AE |.24; \t\t \n",
      "\t  B331EC36 \t\t\t | B331EC|.3¢: \t\t \n",
      "\t  B345MP55 \t\t\t 1B 345 MP |.2° \t\t \n",
      "\t  B352YK04 \t\t\t | B352 YK |,04; \t\t \n",
      "\t  B362PM18 \t\t\t /B362PM|./8; \t\t \n",
      "\t  B370MT52 \t\t\t LB 370 MT |.22; \t\t \n",
      "\t  B382PC47 \t\t\t | B3B2PC|.47; \t\t \n"
     ]
    }
   ],
   "source": [
    "print(\"Actual License Plate\", \"\\t\", \"Predicted License Plate\", \"\\t\") \n",
    "print(\"--------------------\", \"\\t\", \"-----------------------\", \"\\t\") \n",
    "\n",
    "def calculate_predicted_accuracy(actual_list, predicted_list): \n",
    "    for actual_plate, predict_plate in zip(actual_list, predicted_list): \n",
    "        accuracy = \"0 %\"\n",
    "        num_matches = 0\n",
    "        if actual_plate == predict_plate: \n",
    "            accuracy = \"100 %\"\n",
    "        else: \n",
    "            if len(actual_plate) == len(predict_plate): \n",
    "                for a, p in zip(actual_plate, predict_plate): \n",
    "                    if a == p: \n",
    "                        num_matches += 1\n",
    "                accuracy = str(round((num_matches / len(actual_plate)), 2) * 100) \n",
    "                accuracy += \"%\"\n",
    "        print(\"\t \", actual_plate, \"\\t\\t\\t\", predict_plate, \"\\t\\t \") \n",
    "\n",
    "\n",
    "calculate_predicted_accuracy(actual_license_plates, predicted_license_plates)"
   ]
  },
  {
   "cell_type": "code",
   "execution_count": null,
   "metadata": {},
   "outputs": [],
   "source": []
  }
 ],
 "metadata": {
  "kernelspec": {
   "display_name": "Python 3",
   "language": "python",
   "name": "python3"
  },
  "language_info": {
   "codemirror_mode": {
    "name": "ipython",
    "version": 3
   },
   "file_extension": ".py",
   "mimetype": "text/x-python",
   "name": "python",
   "nbconvert_exporter": "python",
   "pygments_lexer": "ipython3",
   "version": "3.8.3"
  }
 },
 "nbformat": 4,
 "nbformat_minor": 4
}
