{
 "cells": [
  {
   "cell_type": "markdown",
   "metadata": {},
   "source": [
    "## PART-2(CROPPING THE DETECTED IMAGE)"
   ]
  },
  {
   "cell_type": "code",
   "execution_count": 1,
   "metadata": {
    "colab": {
     "base_uri": "https://localhost:8080/"
    },
    "id": "h2VfKEMfzGOk",
    "outputId": "ed9d70d0-d2d7-423a-fb55-ce6c9c019f8d"
   },
   "outputs": [
    {
     "name": "stdout",
     "output_type": "stream",
     "text": [
      "Mounted at /content/drive\n"
     ]
    }
   ],
   "source": [
    "from google.colab import drive\n",
    "drive.mount('/content/drive', force_remount=True)"
   ]
  },
  {
   "cell_type": "markdown",
   "metadata": {},
   "source": [
    "#### 1. Importing the required libraries and reading the json file"
   ]
  },
  {
   "cell_type": "code",
   "execution_count": 2,
   "metadata": {
    "id": "8TKCOcUkz_rF"
   },
   "outputs": [],
   "source": [
    "import pandas as pd\n",
    "import json"
   ]
  },
  {
   "cell_type": "code",
   "execution_count": 3,
   "metadata": {
    "colab": {
     "base_uri": "https://localhost:8080/",
     "height": 418
    },
    "id": "PYpD-1_Y1eKM",
    "outputId": "0729fb8e-84f3-4590-d07d-700dddbfe3c4"
   },
   "outputs": [
    {
     "name": "stdout",
     "output_type": "stream",
     "text": [
      "/content/drive/My Drive\n"
     ]
    },
    {
     "data": {
      "text/html": [
       "<div>\n",
       "<style scoped>\n",
       "    .dataframe tbody tr th:only-of-type {\n",
       "        vertical-align: middle;\n",
       "    }\n",
       "\n",
       "    .dataframe tbody tr th {\n",
       "        vertical-align: top;\n",
       "    }\n",
       "\n",
       "    .dataframe thead th {\n",
       "        text-align: right;\n",
       "    }\n",
       "</style>\n",
       "<table border=\"1\" class=\"dataframe\">\n",
       "  <thead>\n",
       "    <tr style=\"text-align: right;\">\n",
       "      <th></th>\n",
       "      <th>frame_id</th>\n",
       "      <th>filename</th>\n",
       "      <th>objects</th>\n",
       "    </tr>\n",
       "  </thead>\n",
       "  <tbody>\n",
       "    <tr>\n",
       "      <th>0</th>\n",
       "      <td>1</td>\n",
       "      <td>data/img2/0.jpg</td>\n",
       "      <td>[{'class_id': 0, 'name': 'NumberPlate', 'relat...</td>\n",
       "    </tr>\n",
       "    <tr>\n",
       "      <th>1</th>\n",
       "      <td>2</td>\n",
       "      <td>data/img2/1.jpg</td>\n",
       "      <td>[{'class_id': 0, 'name': 'NumberPlate', 'relat...</td>\n",
       "    </tr>\n",
       "    <tr>\n",
       "      <th>2</th>\n",
       "      <td>3</td>\n",
       "      <td>data/img2/10.jpg</td>\n",
       "      <td>[{'class_id': 0, 'name': 'NumberPlate', 'relat...</td>\n",
       "    </tr>\n",
       "    <tr>\n",
       "      <th>3</th>\n",
       "      <td>4</td>\n",
       "      <td>data/img2/100.jpg</td>\n",
       "      <td>[{'class_id': 0, 'name': 'NumberPlate', 'relat...</td>\n",
       "    </tr>\n",
       "    <tr>\n",
       "      <th>4</th>\n",
       "      <td>5</td>\n",
       "      <td>data/img2/101.jpg</td>\n",
       "      <td>[]</td>\n",
       "    </tr>\n",
       "    <tr>\n",
       "      <th>...</th>\n",
       "      <td>...</td>\n",
       "      <td>...</td>\n",
       "      <td>...</td>\n",
       "    </tr>\n",
       "    <tr>\n",
       "      <th>137</th>\n",
       "      <td>138</td>\n",
       "      <td>data/img2/95.jpg</td>\n",
       "      <td>[{'class_id': 0, 'name': 'NumberPlate', 'relat...</td>\n",
       "    </tr>\n",
       "    <tr>\n",
       "      <th>138</th>\n",
       "      <td>139</td>\n",
       "      <td>data/img2/96.jpg</td>\n",
       "      <td>[{'class_id': 0, 'name': 'NumberPlate', 'relat...</td>\n",
       "    </tr>\n",
       "    <tr>\n",
       "      <th>139</th>\n",
       "      <td>140</td>\n",
       "      <td>data/img2/97.jpg</td>\n",
       "      <td>[{'class_id': 0, 'name': 'NumberPlate', 'relat...</td>\n",
       "    </tr>\n",
       "    <tr>\n",
       "      <th>140</th>\n",
       "      <td>141</td>\n",
       "      <td>data/img2/98.jpg</td>\n",
       "      <td>[{'class_id': 0, 'name': 'NumberPlate', 'relat...</td>\n",
       "    </tr>\n",
       "    <tr>\n",
       "      <th>141</th>\n",
       "      <td>142</td>\n",
       "      <td>data/img2/99.jpg</td>\n",
       "      <td>[{'class_id': 0, 'name': 'NumberPlate', 'relat...</td>\n",
       "    </tr>\n",
       "  </tbody>\n",
       "</table>\n",
       "<p>142 rows × 3 columns</p>\n",
       "</div>"
      ],
      "text/plain": [
       "     frame_id  ...                                            objects\n",
       "0           1  ...  [{'class_id': 0, 'name': 'NumberPlate', 'relat...\n",
       "1           2  ...  [{'class_id': 0, 'name': 'NumberPlate', 'relat...\n",
       "2           3  ...  [{'class_id': 0, 'name': 'NumberPlate', 'relat...\n",
       "3           4  ...  [{'class_id': 0, 'name': 'NumberPlate', 'relat...\n",
       "4           5  ...                                                 []\n",
       "..        ...  ...                                                ...\n",
       "137       138  ...  [{'class_id': 0, 'name': 'NumberPlate', 'relat...\n",
       "138       139  ...  [{'class_id': 0, 'name': 'NumberPlate', 'relat...\n",
       "139       140  ...  [{'class_id': 0, 'name': 'NumberPlate', 'relat...\n",
       "140       141  ...  [{'class_id': 0, 'name': 'NumberPlate', 'relat...\n",
       "141       142  ...  [{'class_id': 0, 'name': 'NumberPlate', 'relat...\n",
       "\n",
       "[142 rows x 3 columns]"
      ]
     },
     "execution_count": 3,
     "metadata": {
      "tags": []
     },
     "output_type": "execute_result"
    }
   ],
   "source": [
    "%cd 'drive/My Drive'\n",
    "with open('Plates_Crop/result_vehicle_plates.json') as file:\n",
    "    data = json.load(file)\n",
    "dataset = pd.DataFrame(data)\n",
    "dataset"
   ]
  },
  {
   "cell_type": "code",
   "execution_count": 4,
   "metadata": {
    "id": "J9V8LOcF25su"
   },
   "outputs": [],
   "source": [
    "lis1 = []\n",
    "def check(x):\n",
    "    for p in x:\n",
    "        if p['name']==\"NumberPlate\":\n",
    "                    return True\n",
    "    return False\n",
    "\n",
    "dataset['plates']=dataset['objects'].transform(lambda temp:check(temp))"
   ]
  },
  {
   "cell_type": "markdown",
   "metadata": {},
   "source": [
    "#### 2. Splitting the filename and storing the names of the file in a list"
   ]
  },
  {
   "cell_type": "code",
   "execution_count": 5,
   "metadata": {
    "colab": {
     "base_uri": "https://localhost:8080/"
    },
    "id": "XgWxoDcB3Uxx",
    "outputId": "7197f81e-acd0-480e-9753-47f3cfd47c66",
    "scrolled": true
   },
   "outputs": [
    {
     "name": "stderr",
     "output_type": "stream",
     "text": [
      "/usr/local/lib/python3.6/dist-packages/ipykernel_launcher.py:2: SettingWithCopyWarning: \n",
      "A value is trying to be set on a copy of a slice from a DataFrame.\n",
      "Try using .loc[row_indexer,col_indexer] = value instead\n",
      "\n",
      "See the caveats in the documentation: https://pandas.pydata.org/pandas-docs/stable/user_guide/indexing.html#returning-a-view-versus-a-copy\n",
      "  \n"
     ]
    }
   ],
   "source": [
    "dataset = dataset[dataset['plates']]\n",
    "dataset['filename'] = dataset['filename'].transform(lambda f:f.split('/')[-1])\n",
    "in_book = list(dataset['filename'])"
   ]
  },
  {
   "cell_type": "code",
   "execution_count": 6,
   "metadata": {
    "colab": {
     "base_uri": "https://localhost:8080/"
    },
    "id": "XfuUjeRE34yn",
    "outputId": "ee5cb044-1745-43b6-dfcd-ef47556195a2"
   },
   "outputs": [
    {
     "name": "stdout",
     "output_type": "stream",
     "text": [
      "/content/drive/My Drive/Plates_Crop/img2\n"
     ]
    }
   ],
   "source": [
    "%cd 'Plates_Crop/img2'\n",
    "import subprocess\n",
    "proc = subprocess.Popen('ls', shell=True, stdout=subprocess.PIPE, )\n",
    "output = proc.communicate()[0]\n",
    "output = output.decode('utf-8').split('\\n')\n",
    "output = list(output)"
   ]
  },
  {
   "cell_type": "code",
   "execution_count": 7,
   "metadata": {
    "colab": {
     "base_uri": "https://localhost:8080/"
    },
    "id": "oo5H8pYT4Roh",
    "outputId": "ee3f8854-f43e-4581-c9dc-6fa3b9bdeaad"
   },
   "outputs": [
    {
     "name": "stdout",
     "output_type": "stream",
     "text": [
      "rm: missing operand\n",
      "Try 'rm --help' for more information.\n"
     ]
    }
   ],
   "source": [
    "p = set(output)-set(in_book)\n",
    "for x in p:\n",
    "    %rm $x"
   ]
  },
  {
   "cell_type": "code",
   "execution_count": 8,
   "metadata": {
    "colab": {
     "base_uri": "https://localhost:8080/",
     "height": 502
    },
    "id": "_1woSyMu4pSi",
    "outputId": "51992dd7-7193-47c9-cddb-5d397f28aff4"
   },
   "outputs": [
    {
     "name": "stderr",
     "output_type": "stream",
     "text": [
      "/usr/local/lib/python3.6/dist-packages/ipykernel_launcher.py:8: SettingWithCopyWarning: \n",
      "A value is trying to be set on a copy of a slice from a DataFrame.\n",
      "Try using .loc[row_indexer,col_indexer] = value instead\n",
      "\n",
      "See the caveats in the documentation: https://pandas.pydata.org/pandas-docs/stable/user_guide/indexing.html#returning-a-view-versus-a-copy\n",
      "  \n"
     ]
    },
    {
     "data": {
      "text/html": [
       "<div>\n",
       "<style scoped>\n",
       "    .dataframe tbody tr th:only-of-type {\n",
       "        vertical-align: middle;\n",
       "    }\n",
       "\n",
       "    .dataframe tbody tr th {\n",
       "        vertical-align: top;\n",
       "    }\n",
       "\n",
       "    .dataframe thead th {\n",
       "        text-align: right;\n",
       "    }\n",
       "</style>\n",
       "<table border=\"1\" class=\"dataframe\">\n",
       "  <thead>\n",
       "    <tr style=\"text-align: right;\">\n",
       "      <th></th>\n",
       "      <th>frame_id</th>\n",
       "      <th>filename</th>\n",
       "      <th>objects</th>\n",
       "      <th>plates</th>\n",
       "      <th>plate_data</th>\n",
       "    </tr>\n",
       "  </thead>\n",
       "  <tbody>\n",
       "    <tr>\n",
       "      <th>0</th>\n",
       "      <td>1</td>\n",
       "      <td>0.jpg</td>\n",
       "      <td>[{'class_id': 0, 'name': 'NumberPlate', 'relat...</td>\n",
       "      <td>True</td>\n",
       "      <td>{'class_id': 0, 'name': 'NumberPlate', 'relati...</td>\n",
       "    </tr>\n",
       "    <tr>\n",
       "      <th>1</th>\n",
       "      <td>2</td>\n",
       "      <td>1.jpg</td>\n",
       "      <td>[{'class_id': 0, 'name': 'NumberPlate', 'relat...</td>\n",
       "      <td>True</td>\n",
       "      <td>{'class_id': 0, 'name': 'NumberPlate', 'relati...</td>\n",
       "    </tr>\n",
       "    <tr>\n",
       "      <th>2</th>\n",
       "      <td>3</td>\n",
       "      <td>10.jpg</td>\n",
       "      <td>[{'class_id': 0, 'name': 'NumberPlate', 'relat...</td>\n",
       "      <td>True</td>\n",
       "      <td>{'class_id': 0, 'name': 'NumberPlate', 'relati...</td>\n",
       "    </tr>\n",
       "    <tr>\n",
       "      <th>3</th>\n",
       "      <td>4</td>\n",
       "      <td>100.jpg</td>\n",
       "      <td>[{'class_id': 0, 'name': 'NumberPlate', 'relat...</td>\n",
       "      <td>True</td>\n",
       "      <td>{'class_id': 0, 'name': 'NumberPlate', 'relati...</td>\n",
       "    </tr>\n",
       "    <tr>\n",
       "      <th>5</th>\n",
       "      <td>6</td>\n",
       "      <td>102.jpg</td>\n",
       "      <td>[{'class_id': 0, 'name': 'NumberPlate', 'relat...</td>\n",
       "      <td>True</td>\n",
       "      <td>{'class_id': 0, 'name': 'NumberPlate', 'relati...</td>\n",
       "    </tr>\n",
       "    <tr>\n",
       "      <th>...</th>\n",
       "      <td>...</td>\n",
       "      <td>...</td>\n",
       "      <td>...</td>\n",
       "      <td>...</td>\n",
       "      <td>...</td>\n",
       "    </tr>\n",
       "    <tr>\n",
       "      <th>137</th>\n",
       "      <td>138</td>\n",
       "      <td>95.jpg</td>\n",
       "      <td>[{'class_id': 0, 'name': 'NumberPlate', 'relat...</td>\n",
       "      <td>True</td>\n",
       "      <td>{'class_id': 0, 'name': 'NumberPlate', 'relati...</td>\n",
       "    </tr>\n",
       "    <tr>\n",
       "      <th>138</th>\n",
       "      <td>139</td>\n",
       "      <td>96.jpg</td>\n",
       "      <td>[{'class_id': 0, 'name': 'NumberPlate', 'relat...</td>\n",
       "      <td>True</td>\n",
       "      <td>{'class_id': 0, 'name': 'NumberPlate', 'relati...</td>\n",
       "    </tr>\n",
       "    <tr>\n",
       "      <th>139</th>\n",
       "      <td>140</td>\n",
       "      <td>97.jpg</td>\n",
       "      <td>[{'class_id': 0, 'name': 'NumberPlate', 'relat...</td>\n",
       "      <td>True</td>\n",
       "      <td>{'class_id': 0, 'name': 'NumberPlate', 'relati...</td>\n",
       "    </tr>\n",
       "    <tr>\n",
       "      <th>140</th>\n",
       "      <td>141</td>\n",
       "      <td>98.jpg</td>\n",
       "      <td>[{'class_id': 0, 'name': 'NumberPlate', 'relat...</td>\n",
       "      <td>True</td>\n",
       "      <td>{'class_id': 0, 'name': 'NumberPlate', 'relati...</td>\n",
       "    </tr>\n",
       "    <tr>\n",
       "      <th>141</th>\n",
       "      <td>142</td>\n",
       "      <td>99.jpg</td>\n",
       "      <td>[{'class_id': 0, 'name': 'NumberPlate', 'relat...</td>\n",
       "      <td>True</td>\n",
       "      <td>{'class_id': 0, 'name': 'NumberPlate', 'relati...</td>\n",
       "    </tr>\n",
       "  </tbody>\n",
       "</table>\n",
       "<p>140 rows × 5 columns</p>\n",
       "</div>"
      ],
      "text/plain": [
       "     frame_id  ...                                         plate_data\n",
       "0           1  ...  {'class_id': 0, 'name': 'NumberPlate', 'relati...\n",
       "1           2  ...  {'class_id': 0, 'name': 'NumberPlate', 'relati...\n",
       "2           3  ...  {'class_id': 0, 'name': 'NumberPlate', 'relati...\n",
       "3           4  ...  {'class_id': 0, 'name': 'NumberPlate', 'relati...\n",
       "5           6  ...  {'class_id': 0, 'name': 'NumberPlate', 'relati...\n",
       "..        ...  ...                                                ...\n",
       "137       138  ...  {'class_id': 0, 'name': 'NumberPlate', 'relati...\n",
       "138       139  ...  {'class_id': 0, 'name': 'NumberPlate', 'relati...\n",
       "139       140  ...  {'class_id': 0, 'name': 'NumberPlate', 'relati...\n",
       "140       141  ...  {'class_id': 0, 'name': 'NumberPlate', 'relati...\n",
       "141       142  ...  {'class_id': 0, 'name': 'NumberPlate', 'relati...\n",
       "\n",
       "[140 rows x 5 columns]"
      ]
     },
     "execution_count": 8,
     "metadata": {
      "tags": []
     },
     "output_type": "execute_result"
    }
   ],
   "source": [
    "lis2 = []\n",
    "def check2(x):\n",
    "    for p in x:\n",
    "        if p['name']==\"NumberPlate\":\n",
    "                    return p\n",
    "    return False\n",
    "\n",
    "dataset['plate_data'] = dataset['objects'].transform(lambda temp:check2(temp))\n",
    "dataset"
   ]
  },
  {
   "cell_type": "markdown",
   "metadata": {},
   "source": [
    "#### 3. Dropping the unnecessary columns"
   ]
  },
  {
   "cell_type": "code",
   "execution_count": 9,
   "metadata": {
    "colab": {
     "base_uri": "https://localhost:8080/"
    },
    "id": "rXvNYVh55UQw",
    "outputId": "cf5c7b6a-7564-4658-9ab9-0b906405c2b9"
   },
   "outputs": [
    {
     "data": {
      "text/plain": [
       "{'class_id': 0,\n",
       " 'confidence': 0.473579,\n",
       " 'name': 'NumberPlate',\n",
       " 'relative_coordinates': {'center_x': 0.495805,\n",
       "  'center_y': 0.373567,\n",
       "  'height': 0.024851,\n",
       "  'width': 0.090401}}"
      ]
     },
     "execution_count": 9,
     "metadata": {
      "tags": []
     },
     "output_type": "execute_result"
    }
   ],
   "source": [
    "dataset = dataset.drop(['frame_id','objects','plates'],axis=1)\n",
    "dataset['plate_data'][0]"
   ]
  },
  {
   "cell_type": "code",
   "execution_count": 10,
   "metadata": {
    "id": "GnVYbsAB5zPs"
   },
   "outputs": [],
   "source": [
    "data = dataset"
   ]
  },
  {
   "cell_type": "markdown",
   "metadata": {},
   "source": [
    "#### 4. Creating a function for storing border coordinates of license plates"
   ]
  },
  {
   "cell_type": "code",
   "execution_count": 11,
   "metadata": {
    "id": "d07sXV6l65mC"
   },
   "outputs": [],
   "source": [
    "def details(x,flag_2):\n",
    "        co=x['relative_coordinates']\n",
    "        wid=float(co['width'])/2.0\n",
    "        hi=float(co['height'])/2.0\n",
    "        if flag_2=='y2':\n",
    "            return float(co['center_y'])+hi\n",
    "        if flag_2=='x2':\n",
    "            return float(co['center_x'])+wid\n",
    "        if flag_2=='x1':\n",
    "            return float(co['center_x'])-wid\n",
    "        if flag_2=='y1':\n",
    "            return float(co['center_y'])-hi\n",
    "\n",
    "data['x1'] = data['plate_data'].transform(lambda f:details(f,'x1'))    \n",
    "data['y1'] = data['plate_data'].transform(lambda f:details(f,'y1'))  \n",
    "data['x2'] = data['plate_data'].transform(lambda f:details(f,'x2'))  \n",
    "data['y2'] = data['plate_data'].transform(lambda f:details(f,'y2'))"
   ]
  },
  {
   "cell_type": "markdown",
   "metadata": {},
   "source": [
    "#### 5. Cropping as per the border coordinates area"
   ]
  },
  {
   "cell_type": "code",
   "execution_count": 12,
   "metadata": {
    "id": "3cnPaB3R7cdL"
   },
   "outputs": [],
   "source": [
    "from PIL import Image"
   ]
  },
  {
   "cell_type": "code",
   "execution_count": 13,
   "metadata": {
    "colab": {
     "base_uri": "https://localhost:8080/"
    },
    "id": "Wps4MrrJ76Lq",
    "outputId": "b85b1ffe-9141-446e-f418-be385ef7ba81"
   },
   "outputs": [
    {
     "name": "stdout",
     "output_type": "stream",
     "text": [
      "0\n",
      "1\n",
      "2\n",
      "3\n",
      "4\n",
      "5\n",
      "6\n",
      "7\n",
      "8\n",
      "9\n",
      "10\n",
      "11\n",
      "12\n",
      "13\n",
      "14\n",
      "15\n",
      "16\n",
      "17\n",
      "18\n",
      "19\n",
      "20\n",
      "21\n",
      "22\n",
      "23\n",
      "24\n",
      "25\n",
      "26\n",
      "27\n",
      "28\n",
      "29\n",
      "30\n",
      "31\n",
      "32\n",
      "33\n",
      "34\n",
      "35\n",
      "36\n",
      "37\n",
      "38\n",
      "39\n",
      "40\n",
      "41\n",
      "42\n",
      "43\n",
      "44\n",
      "45\n",
      "46\n",
      "47\n",
      "48\n",
      "49\n",
      "50\n",
      "51\n",
      "52\n",
      "53\n",
      "54\n",
      "55\n",
      "56\n",
      "57\n",
      "58\n",
      "59\n",
      "60\n",
      "61\n",
      "62\n",
      "63\n",
      "64\n",
      "65\n",
      "66\n",
      "67\n",
      "68\n",
      "69\n",
      "70\n",
      "71\n",
      "72\n",
      "73\n",
      "74\n",
      "75\n",
      "76\n",
      "77\n",
      "78\n",
      "79\n",
      "80\n",
      "81\n",
      "82\n",
      "83\n",
      "84\n",
      "85\n",
      "86\n",
      "87\n",
      "88\n",
      "89\n",
      "90\n",
      "91\n",
      "92\n",
      "93\n",
      "94\n",
      "95\n",
      "96\n",
      "97\n",
      "98\n",
      "99\n",
      "100\n",
      "101\n",
      "102\n",
      "103\n",
      "104\n",
      "105\n",
      "106\n",
      "107\n",
      "108\n",
      "109\n",
      "110\n",
      "111\n",
      "112\n",
      "113\n",
      "114\n",
      "115\n",
      "116\n",
      "117\n",
      "118\n",
      "119\n",
      "120\n",
      "121\n",
      "122\n",
      "123\n",
      "124\n",
      "125\n",
      "126\n",
      "127\n",
      "128\n",
      "129\n",
      "130\n",
      "131\n",
      "132\n",
      "133\n",
      "134\n",
      "135\n",
      "136\n",
      "137\n",
      "138\n",
      "139\n"
     ]
    }
   ],
   "source": [
    "count=0\n",
    "for x,y in data.iterrows():\n",
    "        img = Image.open('/content/drive/My Drive/Plates_Crop/img2/'+str(y['filename']))\n",
    "        dim = img.size\n",
    "        w,h = dim[0],dim[1]\n",
    "        x1 = y['x1']*w\n",
    "        x2 = y['x2']*w\n",
    "        y1 = y['y1']*h\n",
    "        y2 = y['y2']*h\n",
    "        area = (x1,y1,x2,y2)\n",
    "        print(count)\n",
    "        cropped_img = img.crop(area)\n",
    "        cropped_img = cropped_img.convert('RGB')\n",
    "        cropped_img.save(\"/content/drive/My Drive/Plates_Crop/Cropped_Img/\"+str(x)+'.jpg')\n",
    "        count+=1"
   ]
  },
  {
   "cell_type": "code",
   "execution_count": 13,
   "metadata": {
    "id": "TU07N5wO8oC6"
   },
   "outputs": [],
   "source": []
  }
 ],
 "metadata": {
  "accelerator": "GPU",
  "colab": {
   "collapsed_sections": [],
   "name": "Vehicle_Plates_Crop(OCR).ipynb",
   "provenance": []
  },
  "kernelspec": {
   "display_name": "Python 3",
   "language": "python",
   "name": "python3"
  },
  "language_info": {
   "codemirror_mode": {
    "name": "ipython",
    "version": 3
   },
   "file_extension": ".py",
   "mimetype": "text/x-python",
   "name": "python",
   "nbconvert_exporter": "python",
   "pygments_lexer": "ipython3",
   "version": "3.8.3"
  }
 },
 "nbformat": 4,
 "nbformat_minor": 1
}
